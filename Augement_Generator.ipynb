{
 "cells": [
  {
   "cell_type": "code",
   "execution_count": 35,
   "id": "9bca0838",
   "metadata": {},
   "outputs": [
    {
     "name": "stdout",
     "output_type": "stream",
     "text": [
      "Requirement already satisfied: albumentations in /usr/local/python/3.12.1/lib/python3.12/site-packages (2.0.7)\n",
      "Requirement already satisfied: opencv-python in /usr/local/python/3.12.1/lib/python3.12/site-packages (4.11.0.86)\n",
      "Requirement already satisfied: numpy>=1.24.4 in /home/codespace/.local/lib/python3.12/site-packages (from albumentations) (2.2.4)\n",
      "Requirement already satisfied: scipy>=1.10.0 in /home/codespace/.local/lib/python3.12/site-packages (from albumentations) (1.15.2)\n",
      "Requirement already satisfied: PyYAML in /home/codespace/.local/lib/python3.12/site-packages (from albumentations) (6.0.2)\n",
      "Requirement already satisfied: pydantic>=2.9.2 in /usr/local/python/3.12.1/lib/python3.12/site-packages (from albumentations) (2.11.5)\n",
      "Requirement already satisfied: albucore==0.0.24 in /usr/local/python/3.12.1/lib/python3.12/site-packages (from albumentations) (0.0.24)\n",
      "Requirement already satisfied: opencv-python-headless>=4.9.0.80 in /usr/local/python/3.12.1/lib/python3.12/site-packages (from albumentations) (4.11.0.86)\n",
      "Requirement already satisfied: stringzilla>=3.10.4 in /usr/local/python/3.12.1/lib/python3.12/site-packages (from albucore==0.0.24->albumentations) (3.12.5)\n",
      "Requirement already satisfied: simsimd>=5.9.2 in /usr/local/python/3.12.1/lib/python3.12/site-packages (from albucore==0.0.24->albumentations) (6.2.1)\n",
      "Requirement already satisfied: annotated-types>=0.6.0 in /usr/local/python/3.12.1/lib/python3.12/site-packages (from pydantic>=2.9.2->albumentations) (0.7.0)\n",
      "Requirement already satisfied: pydantic-core==2.33.2 in /usr/local/python/3.12.1/lib/python3.12/site-packages (from pydantic>=2.9.2->albumentations) (2.33.2)\n",
      "Requirement already satisfied: typing-extensions>=4.12.2 in /home/codespace/.local/lib/python3.12/site-packages (from pydantic>=2.9.2->albumentations) (4.12.2)\n",
      "Requirement already satisfied: typing-inspection>=0.4.0 in /usr/local/python/3.12.1/lib/python3.12/site-packages (from pydantic>=2.9.2->albumentations) (0.4.1)\n",
      "Note: you may need to restart the kernel to use updated packages.\n",
      "/bin/bash: -c: line 0: syntax error near unexpected token `('\n",
      "/bin/bash: -c: line 0: `/home/codespace/.python/current/bin/python -m pip install torchvision--(datasets version 0.3.2 , transforms version 0.3.2)'\n",
      "Note: you may need to restart the kernel to use updated packages.\n"
     ]
    }
   ],
   "source": [
    "%pip install albumentations opencv-python\n",
    "%pip install torchvision--(datasets version 0.3.2 , transforms version 0.3.2)"
   ]
  },
  {
   "cell_type": "code",
   "execution_count": 15,
   "id": "f8b9d1c3",
   "metadata": {},
   "outputs": [],
   "source": [
    "import os\n",
    "import torch\n",
    "import torch.nn as nn\n",
    "import torch.nn.functional as F\n",
    "from torch.utils.data import DataLoader, random_split\n",
    "from torchvision import datasets, transforms\n",
    "from sklearn.metrics import classification_report, confusion_matrix\n",
    "import matplotlib.pyplot as plt\n",
    "import seaborn as sns\n",
    "import numpy as np\n",
    "import os\n",
    "import cv2\n",
    "import numpy as np\n",
    "from spectral import envi, principal_components\n",
    "from tqdm import tqdm\n",
    "import random\n",
    "import albumentations as A\n"
   ]
  },
  {
   "cell_type": "code",
   "execution_count": 16,
   "id": "cfd80b30",
   "metadata": {},
   "outputs": [],
   "source": [
    "def append_byte_order(file_path):\n",
    "    with open(file_path, 'r') as file:\n",
    "        lines = file.readlines()\n",
    "    if not any(\"byte order\" in line.lower() for line in lines):\n",
    "        with open(file_path, 'a') as file:\n",
    "            file.write(\"\\nbyte order = 0\\n\")\n",
    "\n",
    "def generate_false_color(img_path, hdr_path):\n",
    "    append_byte_order(hdr_path)\n",
    "    img = envi.open(hdr_path, img_path)\n",
    "    cube = img.load()\n",
    "    pca = principal_components(cube)\n",
    "    pc1 = pca.transform(cube)[:, :, 0]\n",
    "    pc1_norm = 255 * (pc1 - pc1.min()) / (pc1.max() - pc1.min())\n",
    "    pc1_norm = pc1_norm.astype(np.uint8)\n",
    "    return cv2.applyColorMap(pc1_norm, cv2.COLORMAP_JET)\n",
    "\n",
    "def convert_and_save_images(root_dir, output_dir):\n",
    "    classes = ['serie healthy leaves', 'serie infected leaves']\n",
    "    os.makedirs(output_dir, exist_ok=True)\n",
    "\n",
    "    for cls in classes:\n",
    "        input_cls_path = os.path.join(root_dir, cls)\n",
    "        output_cls_path = os.path.join(output_dir, cls)\n",
    "        os.makedirs(output_cls_path, exist_ok=True)\n",
    "\n",
    "        files = os.listdir(input_cls_path)\n",
    "        hdr_files = [f for f in files if f.endswith('.hdr')]\n",
    "\n",
    "        for hdr_file in tqdm(hdr_files, desc=f'Processing {cls}'):\n",
    "            base = os.path.splitext(hdr_file)[0]\n",
    "            img_file = base + '.img'\n",
    "            hdr_path = os.path.join(input_cls_path, hdr_file)\n",
    "            img_path = os.path.join(input_cls_path, img_file)\n",
    "\n",
    "            if not os.path.exists(img_path):\n",
    "                continue\n",
    "\n",
    "            try:\n",
    "                vis_img = generate_false_color(img_path, hdr_path)\n",
    "                save_path = os.path.join(output_cls_path, base + '.png')\n",
    "                cv2.imwrite(save_path, vis_img)\n",
    "            except Exception as e:\n",
    "                print(f\"Error with {hdr_file}: {e}\")"
   ]
  },
  {
   "cell_type": "code",
   "execution_count": 17,
   "id": "a1716afb",
   "metadata": {},
   "outputs": [
    {
     "name": "stderr",
     "output_type": "stream",
     "text": [
      "Processing serie healthy leaves: 100%|██████████| 7/7 [00:03<00:00,  1.76it/s]\n",
      "Processing serie infected leaves: 100%|██████████| 7/7 [00:02<00:00,  2.75it/s]\n"
     ]
    }
   ],
   "source": [
    "convert_and_save_images(\n",
    "    root_dir='DataFiles',\n",
    "    output_dir='processed_data'\n",
    ")"
   ]
  },
  {
   "cell_type": "code",
   "execution_count": 18,
   "id": "4022318c",
   "metadata": {},
   "outputs": [],
   "source": [
    "# === CONFIGURATION HEALTHY IMAGES===\n",
    "input_folder_1 = \"processed_data/serie healthy leaves\"       # Change this to your folder path\n",
    "output_folder_1 = \"aug_processed_data/serie_healthy_leaves_augmented\"          # Where to save augmented images\n",
    "total_augmented = 100"
   ]
  },
  {
   "cell_type": "code",
   "execution_count": 19,
   "id": "979adba6",
   "metadata": {},
   "outputs": [],
   "source": [
    "# === CONFIGURATION HEALTHY IMAGES===\n",
    "input_folder = \"processed_data/serie infected leaves\"       # Change this to your folder path\n",
    "output_folder = \"aug_processed_data/series_infected_leaves_augmented\"          # Where to save augmented images\n",
    "total_augmented = 100"
   ]
  },
  {
   "cell_type": "code",
   "execution_count": 20,
   "id": "4104ee4b",
   "metadata": {},
   "outputs": [
    {
     "name": "stdout",
     "output_type": "stream",
     "text": [
      "📂 Found 7 images. Generating 100 augmented images...\n"
     ]
    },
    {
     "name": "stderr",
     "output_type": "stream",
     "text": [
      "Augmenting:   0%|          | 0/100 [00:00<?, ?it/s]/usr/local/python/3.12.1/lib/python3.12/site-packages/albumentations/core/validation.py:111: UserWarning: ShiftScaleRotate is a special case of Affine transform. Please use Affine transform instead.\n",
      "  original_init(self, **validated_kwargs)\n",
      "/tmp/ipykernel_45177/880064550.py:64: UserWarning: Argument(s) 'max_holes, max_height, max_width' are not valid for transform CoarseDropout\n",
      "  A.CoarseDropout(max_holes=8, max_height=16, max_width=16, p=0.5),\n",
      "/tmp/ipykernel_45177/880064550.py:66: UserWarning: Argument(s) 'var_limit' are not valid for transform GaussNoise\n",
      "  A.GaussNoise(var_limit=(10.0, 50.0), p=0.3),\n",
      "Augmenting:   8%|▊         | 8/100 [00:00<00:01, 73.07it/s]"
     ]
    },
    {
     "name": "stderr",
     "output_type": "stream",
     "text": [
      "Augmenting: 100%|██████████| 100/100 [00:00<00:00, 145.30it/s]\n"
     ]
    },
    {
     "name": "stdout",
     "output_type": "stream",
     "text": [
      "\n",
      "✅ Done! Augmented images saved in: aug_processed_data/series_infected_leaves_augmented\n",
      "📂 Found 7 images. Generating 100 augmented images...\n"
     ]
    },
    {
     "name": "stderr",
     "output_type": "stream",
     "text": [
      "Augmenting: 100%|██████████| 100/100 [00:00<00:00, 178.06it/s]"
     ]
    },
    {
     "name": "stdout",
     "output_type": "stream",
     "text": [
      "\n",
      "✅ Done! Augmented images saved in: aug_processed_data/serie_healthy_leaves_augmented\n"
     ]
    },
    {
     "name": "stderr",
     "output_type": "stream",
     "text": [
      "\n"
     ]
    }
   ],
   "source": [
    "# === AUGMENTATION PIPELINE ===\n",
    "transform = A.Compose([\n",
    "    A.HorizontalFlip(p=0.5),\n",
    "    A.Rotate(limit=25, p=0.7),\n",
    "    A.RandomBrightnessContrast(p=0.5),\n",
    "    A.GaussianBlur(p=0.3),\n",
    "])\n",
    "\n",
    "# === LOAD IMAGES ===\n",
    "def load_images(folder):\n",
    "    images, filenames = [], []\n",
    "    for filename in os.listdir(folder):\n",
    "        if filename.lower().endswith(\".png\"):\n",
    "            path = os.path.join(folder, filename)\n",
    "            img = cv2.imread(path)\n",
    "            if img is not None:\n",
    "                images.append(img)\n",
    "                filenames.append(filename)\n",
    "    return images, filenames\n",
    "\n",
    "# === AUGMENTATION FUNCTION ===\n",
    "def augment_images(input_folder, output_folder, total_augmented):\n",
    "    os.makedirs(output_folder, exist_ok=True)\n",
    "\n",
    "    images, filenames = load_images(input_folder)\n",
    "    n = len(images)\n",
    "\n",
    "    if n == 0:\n",
    "        print(\"❌ No .png images found in the input folder.\")\n",
    "        return\n",
    "\n",
    "    print(f\"📂 Found {n} images. Generating {total_augmented} augmented images...\")\n",
    "\n",
    "    for i in tqdm(range(total_augmented), desc=\"Augmenting\"):\n",
    "        idx = random.randint(0, n - 1)\n",
    "        image = images[idx]\n",
    "\n",
    "        # Apply augmentation WITHOUT ToTensorV2 and Normalize for saving\n",
    "        augmented = A.Compose([\n",
    "            A.Resize(128, 128),\n",
    "            # Use the rest from above but exclude Normalize and ToTensorV2\n",
    "            A.OneOf([\n",
    "                A.HorizontalFlip(p=0.5),\n",
    "                A.VerticalFlip(p=0.5),\n",
    "                A.RandomRotate90(p=0.5),\n",
    "            ], p=0.7),\n",
    "\n",
    "            A.ShiftScaleRotate(\n",
    "                shift_limit=0.1, scale_limit=0.2, rotate_limit=45, p=0.7\n",
    "            ),\n",
    "\n",
    "            A.OneOf([\n",
    "                A.GaussianBlur(blur_limit=3, p=0.3),\n",
    "                A.MotionBlur(blur_limit=3, p=0.3),\n",
    "                A.MedianBlur(blur_limit=3, p=0.3),\n",
    "            ], p=0.3),\n",
    "\n",
    "            A.OneOf([\n",
    "                A.RandomBrightnessContrast(brightness_limit=0.3, contrast_limit=0.3, p=0.7),\n",
    "                A.HueSaturationValue(hue_shift_limit=20, sat_shift_limit=30, val_shift_limit=20, p=0.7),\n",
    "                A.RGBShift(r_shift_limit=15, g_shift_limit=15, b_shift_limit=15, p=0.7),\n",
    "            ], p=0.7),\n",
    "\n",
    "            A.CoarseDropout(max_holes=8, max_height=16, max_width=16, p=0.5),\n",
    "\n",
    "            A.GaussNoise(var_limit=(10.0, 50.0), p=0.3),\n",
    "        ])(image=image)[\"image\"]\n",
    "\n",
    "        new_filename = f\"aug_{i}_{filenames[idx]}\"\n",
    "        save_path = os.path.join(output_folder, new_filename)\n",
    "        cv2.imwrite(save_path, augmented)\n",
    "\n",
    "    print(f\"\\n✅ Done! Augmented images saved in: {output_folder}\")\n",
    "\n",
    "# === RUN ===\n",
    "augment_images(input_folder, output_folder, total_augmented)\n",
    "augment_images(input_folder_1, output_folder_1, total_augmented)"
   ]
  },
  {
   "cell_type": "code",
   "execution_count": null,
   "id": "fe70d2fc",
   "metadata": {},
   "outputs": [],
   "source": []
  }
 ],
 "metadata": {
  "kernelspec": {
   "display_name": "Python 3",
   "language": "python",
   "name": "python3"
  },
  "language_info": {
   "codemirror_mode": {
    "name": "ipython",
    "version": 3
   },
   "file_extension": ".py",
   "mimetype": "text/x-python",
   "name": "python",
   "nbconvert_exporter": "python",
   "pygments_lexer": "ipython3",
   "version": "3.12.1"
  }
 },
 "nbformat": 4,
 "nbformat_minor": 5
}
